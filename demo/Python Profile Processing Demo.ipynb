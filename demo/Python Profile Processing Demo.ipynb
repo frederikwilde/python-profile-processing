{
 "cells": [
  {
   "cell_type": "code",
   "execution_count": 1,
   "id": "641a6f01",
   "metadata": {},
   "outputs": [],
   "source": [
    "%matplotlib inline\n",
    "import os\n",
    "import numpy as np\n",
    "import pandas as pd\n",
    "import matplotlib.pyplot as plt\n",
    "import cProfile\n",
    "from profile_processing import ProfileStats, get_call_stats"
   ]
  },
  {
   "cell_type": "markdown",
   "id": "bb8a87f1",
   "metadata": {},
   "source": [
    "`profile_processing` helps when we want to create multiple profiles and extract data from each of them.\n",
    "Profile stats is a simple wrapper around the built-in `pstats.Stats` class in Python."
   ]
  },
  {
   "cell_type": "code",
   "execution_count": 2,
   "id": "b7ff5bc5",
   "metadata": {},
   "outputs": [],
   "source": [
    "os.mkdir('numpy_dot_profiles')  # Create a directory for our profiles\n",
    "sizes = range(100, 1100, 100)  # Let's analyze matrices of various sizes."
   ]
  },
  {
   "cell_type": "markdown",
   "id": "6f67b18a",
   "metadata": {},
   "source": [
    "We create profiles for `np.linalg.eig` on matrices of growing size."
   ]
  },
  {
   "cell_type": "code",
   "execution_count": 4,
   "id": "5557851d",
   "metadata": {},
   "outputs": [],
   "source": [
    "rng = np.random.default_rng(42)\n",
    "for s in sizes:\n",
    "    matrix = rng.random((s, s), dtype=np.float64)\n",
    "    profile_path = f'numpy_dot_profiles/{s}.prof'\n",
    "    cProfile.run('np.linalg.eig(matrix)', profile_path)"
   ]
  },
  {
   "cell_type": "markdown",
   "id": "96ce509d",
   "metadata": {},
   "source": [
    "Load one of the profiles and list all functions that were being called."
   ]
  },
  {
   "cell_type": "code",
   "execution_count": 5,
   "id": "456a99b5",
   "metadata": {},
   "outputs": [
    {
     "data": {
      "text/plain": [
       "[\"<method 'get' of 'dict' objects>\",\n",
       " \"<method 'items' of 'dict' objects>\",\n",
       " '<built-in method builtins.exec>',\n",
       " '<built-in method builtins.getattr>',\n",
       " '<built-in method builtins.issubclass>',\n",
       " \"<method 'disable' of '_lsprof.Profiler' objects>\",\n",
       " '<dictcomp>',\n",
       " '_wrapreduction',\n",
       " '_all_dispatcher',\n",
       " 'all',\n",
       " '_all',\n",
       " 'all',\n",
       " 'get_linalg_error_extobj',\n",
       " '_makearray',\n",
       " 'isComplexType',\n",
       " '_realType',\n",
       " '_complexType',\n",
       " '_commonType',\n",
       " '_assert_stacked_2d',\n",
       " '_assert_stacked_square',\n",
       " '_assert_finite',\n",
       " '_unary_dispatcher',\n",
       " 'eig',\n",
       " 'eig',\n",
       " \"<method '__array_prepare__' of 'numpy.ndarray' objects>\",\n",
       " \"<method 'all' of 'numpy.ndarray' objects>\",\n",
       " \"<method 'astype' of 'numpy.ndarray' objects>\",\n",
       " '<built-in method numpy.asarray>',\n",
       " '<built-in method numpy.core._multiarray_umath.implement_array_function>',\n",
       " \"<method 'reduce' of 'numpy.ufunc' objects>\",\n",
       " '<module>']"
      ]
     },
     "execution_count": 5,
     "metadata": {},
     "output_type": "execute_result"
    }
   ],
   "source": [
    "profile = ProfileStats('numpy_dot_profiles/100.prof')\n",
    "profile.list_calls()"
   ]
  },
  {
   "cell_type": "markdown",
   "id": "3f77326b",
   "metadata": {},
   "source": [
    "Say we are interested in the `isComplexType` function and how its runtimes differ for growing matrix sizes.\n",
    "\n",
    "All the profile data inside `pstats.Stats` is stored in the `stats` attribute which is a dictionary. We can search for the key for the function we are interested in."
   ]
  },
  {
   "cell_type": "code",
   "execution_count": 6,
   "id": "f23906a2",
   "metadata": {},
   "outputs": [
    {
     "data": {
      "text/plain": [
       "[('/Users/frederik.wilde/pennylane/venv3.10-dev/lib/python3.10/site-packages/numpy/linalg/linalg.py',\n",
       "  117,\n",
       "  'isComplexType')]"
      ]
     },
     "execution_count": 6,
     "metadata": {},
     "output_type": "execute_result"
    }
   ],
   "source": [
    "keys = profile.search_calls(name_pattern='isComplexType')\n",
    "keys"
   ]
  },
  {
   "cell_type": "markdown",
   "id": "93dfbaee",
   "metadata": {},
   "source": [
    "The key contains a file path, the line number, and function name. `search_call` also allows you to search by `path_pattern` or the `line_number`.\n",
    "\n",
    "The corresponding value contains statistics about the calls to this function:"
   ]
  },
  {
   "cell_type": "code",
   "execution_count": 7,
   "id": "e56c4780",
   "metadata": {
    "scrolled": true
   },
   "outputs": [
    {
     "data": {
      "text/plain": [
       "{'ncalls_prim': 3,\n",
       " 'ncalls': 3,\n",
       " 'tottime': 3.2500000000000002e-06,\n",
       " 'cumtime': 4.5e-06,\n",
       " 'callers': {('/Users/frederik.wilde/pennylane/venv3.10-dev/lib/python3.10/site-packages/numpy/linalg/linalg.py',\n",
       "   136,\n",
       "   '_commonType'): (1, 1, 1.3750000000000002e-06, 1.667e-06),\n",
       "  ('/Users/frederik.wilde/pennylane/venv3.10-dev/lib/python3.10/site-packages/numpy/linalg/linalg.py',\n",
       "   1182,\n",
       "   'eig'): (2, 2, 1.875e-06, 2.8330000000000002e-06)}}"
      ]
     },
     "execution_count": 7,
     "metadata": {},
     "output_type": "execute_result"
    }
   ],
   "source": [
    "profile.get_call(key=keys[0])"
   ]
  },
  {
   "cell_type": "markdown",
   "id": "c9cd77f1",
   "metadata": {},
   "source": [
    "We could also just use `profile.stats[keys[0]]` here instead, but we would get an uninformative tuple of numbers.\n",
    "\n",
    "Now we can extract the information we are interested in from profile files with a single line of code with `get_call_stats` and load it into a Pandas `DataFrame`."
   ]
  },
  {
   "cell_type": "code",
   "execution_count": 8,
   "id": "21318ed2",
   "metadata": {},
   "outputs": [
    {
     "data": {
      "text/html": [
       "<div>\n",
       "<style scoped>\n",
       "    .dataframe tbody tr th:only-of-type {\n",
       "        vertical-align: middle;\n",
       "    }\n",
       "\n",
       "    .dataframe tbody tr th {\n",
       "        vertical-align: top;\n",
       "    }\n",
       "\n",
       "    .dataframe thead th {\n",
       "        text-align: right;\n",
       "    }\n",
       "</style>\n",
       "<table border=\"1\" class=\"dataframe\">\n",
       "  <thead>\n",
       "    <tr style=\"text-align: right;\">\n",
       "      <th></th>\n",
       "      <th>Matrix size</th>\n",
       "      <th>Number of calls</th>\n",
       "      <th>Cumulative time</th>\n",
       "    </tr>\n",
       "  </thead>\n",
       "  <tbody>\n",
       "    <tr>\n",
       "      <th>0</th>\n",
       "      <td>100 x 100</td>\n",
       "      <td>3</td>\n",
       "      <td>0.000005</td>\n",
       "    </tr>\n",
       "    <tr>\n",
       "      <th>1</th>\n",
       "      <td>200 x 200</td>\n",
       "      <td>3</td>\n",
       "      <td>0.000005</td>\n",
       "    </tr>\n",
       "    <tr>\n",
       "      <th>2</th>\n",
       "      <td>300 x 300</td>\n",
       "      <td>3</td>\n",
       "      <td>0.000003</td>\n",
       "    </tr>\n",
       "    <tr>\n",
       "      <th>3</th>\n",
       "      <td>400 x 400</td>\n",
       "      <td>3</td>\n",
       "      <td>0.000002</td>\n",
       "    </tr>\n",
       "    <tr>\n",
       "      <th>4</th>\n",
       "      <td>500 x 500</td>\n",
       "      <td>3</td>\n",
       "      <td>0.000003</td>\n",
       "    </tr>\n",
       "    <tr>\n",
       "      <th>5</th>\n",
       "      <td>600 x 600</td>\n",
       "      <td>3</td>\n",
       "      <td>0.000002</td>\n",
       "    </tr>\n",
       "    <tr>\n",
       "      <th>6</th>\n",
       "      <td>700 x 700</td>\n",
       "      <td>3</td>\n",
       "      <td>0.000003</td>\n",
       "    </tr>\n",
       "    <tr>\n",
       "      <th>7</th>\n",
       "      <td>800 x 800</td>\n",
       "      <td>3</td>\n",
       "      <td>0.000003</td>\n",
       "    </tr>\n",
       "    <tr>\n",
       "      <th>8</th>\n",
       "      <td>900 x 900</td>\n",
       "      <td>3</td>\n",
       "      <td>0.000004</td>\n",
       "    </tr>\n",
       "    <tr>\n",
       "      <th>9</th>\n",
       "      <td>1000 x 1000</td>\n",
       "      <td>3</td>\n",
       "      <td>0.000003</td>\n",
       "    </tr>\n",
       "  </tbody>\n",
       "</table>\n",
       "</div>"
      ],
      "text/plain": [
       "   Matrix size  Number of calls  Cumulative time\n",
       "0    100 x 100                3         0.000005\n",
       "1    200 x 200                3         0.000005\n",
       "2    300 x 300                3         0.000003\n",
       "3    400 x 400                3         0.000002\n",
       "4    500 x 500                3         0.000003\n",
       "5    600 x 600                3         0.000002\n",
       "6    700 x 700                3         0.000003\n",
       "7    800 x 800                3         0.000003\n",
       "8    900 x 900                3         0.000004\n",
       "9  1000 x 1000                3         0.000003"
      ]
     },
     "execution_count": 8,
     "metadata": {},
     "output_type": "execute_result"
    }
   ],
   "source": [
    "table = []\n",
    "for s in sizes:\n",
    "    call = get_call_stats(f'numpy_dot_profiles/{s}.prof', 'isComplexType')\n",
    "    table.append((f'{s} x {s}', call['ncalls'], call['cumtime']))\n",
    "df = pd.DataFrame(table, columns=('Matrix size', 'Number of calls', 'Cumulative time'))\n",
    "df"
   ]
  },
  {
   "cell_type": "markdown",
   "id": "29216fbd",
   "metadata": {},
   "source": [
    "We can easily plot results extracted from different profiles now."
   ]
  },
  {
   "cell_type": "code",
   "execution_count": 9,
   "id": "ada1758c",
   "metadata": {
    "scrolled": false
   },
   "outputs": [
    {
     "data": {
      "image/png": "[encoded data removed]",
      "text/plain": [
       "<Figure size 400x300 with 1 Axes>"
      ]
     },
     "metadata": {},
     "output_type": "display_data"
    }
   ],
   "source": [
    "fig, ax = plt.subplots(1, 1, figsize=(4, 3))\n",
    "x = range(len(sizes))\n",
    "ax.bar(x, df['Cumulative time'])\n",
    "ax.set_xticks(x)\n",
    "ax.set_xticklabels(df['Matrix size'], rotation=45., ha='right', fontsize=8)\n",
    "plt.show()\n",
    "# plt.savefig('stats-plot.png', bbox_inches='tight')"
   ]
  },
  {
   "cell_type": "code",
   "execution_count": null,
   "id": "90b04154",
   "metadata": {},
   "outputs": [],
   "source": []
  }
 ],
 "metadata": {
  "kernelspec": {
   "display_name": "Python 3 (ipykernel)",
   "language": "python",
   "name": "python3"
  },
  "language_info": {
   "codemirror_mode": {
    "name": "ipython",
    "version": 3
   },
   "file_extension": ".py",
   "mimetype": "text/x-python",
   "name": "python",
   "nbconvert_exporter": "python",
   "pygments_lexer": "ipython3",
   "version": "3.10.11"
  }
 },
 "nbformat": 4,
 "nbformat_minor": 5
}
